{
 "cells": [
  {
   "cell_type": "code",
   "execution_count": 1,
   "id": "02eb4ea7",
   "metadata": {},
   "outputs": [
    {
     "name": "stdout",
     "output_type": "stream",
     "text": [
      "Collecting twilio\n",
      "  Downloading twilio-9.2.3-py2.py3-none-any.whl (1.8 MB)\n",
      "Requirement already satisfied: requests>=2.0.0 in c:\\users\\ssidh\\anaconda3\\lib\\site-packages (from twilio) (2.27.1)\n",
      "Collecting aiohttp-retry>=2.8.3\n",
      "  Downloading aiohttp_retry-2.8.3-py3-none-any.whl (9.8 kB)\n",
      "Requirement already satisfied: PyJWT<3.0.0,>=2.0.0 in c:\\users\\ssidh\\anaconda3\\lib\\site-packages (from twilio) (2.1.0)\n",
      "Collecting aiohttp>=3.8.4\n",
      "  Downloading aiohttp-3.10.3-cp39-cp39-win_amd64.whl (379 kB)\n",
      "Requirement already satisfied: multidict<7.0,>=4.5 in c:\\users\\ssidh\\anaconda3\\lib\\site-packages (from aiohttp>=3.8.4->twilio) (5.1.0)\n",
      "Requirement already satisfied: async-timeout<5.0,>=4.0 in c:\\users\\ssidh\\anaconda3\\lib\\site-packages (from aiohttp>=3.8.4->twilio) (4.0.1)\n",
      "Requirement already satisfied: frozenlist>=1.1.1 in c:\\users\\ssidh\\anaconda3\\lib\\site-packages (from aiohttp>=3.8.4->twilio) (1.2.0)\n",
      "Requirement already satisfied: aiosignal>=1.1.2 in c:\\users\\ssidh\\anaconda3\\lib\\site-packages (from aiohttp>=3.8.4->twilio) (1.2.0)\n",
      "Collecting aiohappyeyeballs>=2.3.0\n",
      "  Downloading aiohappyeyeballs-2.3.5-py3-none-any.whl (12 kB)\n",
      "Requirement already satisfied: yarl<2.0,>=1.0 in c:\\users\\ssidh\\anaconda3\\lib\\site-packages (from aiohttp>=3.8.4->twilio) (1.6.3)\n",
      "Requirement already satisfied: attrs>=17.3.0 in c:\\users\\ssidh\\anaconda3\\lib\\site-packages (from aiohttp>=3.8.4->twilio) (21.4.0)\n",
      "Requirement already satisfied: typing-extensions>=3.6.5 in c:\\users\\ssidh\\anaconda3\\lib\\site-packages (from async-timeout<5.0,>=4.0->aiohttp>=3.8.4->twilio) (4.12.1)\n",
      "Requirement already satisfied: idna<4,>=2.5 in c:\\users\\ssidh\\anaconda3\\lib\\site-packages (from requests>=2.0.0->twilio) (3.3)\n",
      "Requirement already satisfied: urllib3<1.27,>=1.21.1 in c:\\users\\ssidh\\anaconda3\\lib\\site-packages (from requests>=2.0.0->twilio) (1.26.9)\n",
      "Requirement already satisfied: charset-normalizer~=2.0.0 in c:\\users\\ssidh\\anaconda3\\lib\\site-packages (from requests>=2.0.0->twilio) (2.0.4)\n",
      "Requirement already satisfied: certifi>=2017.4.17 in c:\\users\\ssidh\\anaconda3\\lib\\site-packages (from requests>=2.0.0->twilio) (2021.10.8)\n",
      "Installing collected packages: aiohappyeyeballs, aiohttp, aiohttp-retry, twilio\n",
      "  Attempting uninstall: aiohttp\n",
      "    Found existing installation: aiohttp 3.8.1\n",
      "    Uninstalling aiohttp-3.8.1:\n",
      "      Successfully uninstalled aiohttp-3.8.1\n",
      "Successfully installed aiohappyeyeballs-2.3.5 aiohttp-3.10.3 aiohttp-retry-2.8.3 twilio-9.2.3\n"
     ]
    }
   ],
   "source": [
    "!pip install twilio"
   ]
  },
  {
   "cell_type": "code",
   "execution_count": 2,
   "id": "898999cd",
   "metadata": {},
   "outputs": [],
   "source": [
    "# Mock implementation for sending alerts (example with Twilio)\n",
    "# Install Twilio: !pip install twilio\n",
    "\n",
    "from twilio.rest import Client\n",
    "\n",
    "# Twilio credentials (replace with your credentials)\n",
    "account_sid = 'Suhel'\n",
    "auth_token = '69419'\n",
    "client = Client(account_sid, auth_token)\n",
    "\n",
    "def send_alert(message, to_phone_number):\n",
    "    from_phone_number = '6503835249'\n",
    "    message = client.messages.create(\n",
    "        body=message,\n",
    "        from_=from_phone_number,\n",
    "        to=to_phone_number\n",
    "    )\n",
    "    return message.sid\n",
    "\n",
    "# Example alert\n",
    "alert_message = \"Heatwave Alert! Temperatures are expected to exceed 30°C today. Stay hydrated and indoors.\"\n",
    "to_phone_number = '+123456789'  # Replace with the recipient's phone number\n",
    "\n",
    "# Send alert (uncomment to send)\n",
    "# alert_sid = send_alert(alert_message, to_phone_number)\n",
    "# print(f\"Alert sent with SID: {alert_sid}\")"
   ]
  },
  {
   "cell_type": "code",
   "execution_count": 3,
   "id": "da6ea964",
   "metadata": {},
   "outputs": [
    {
     "name": "stderr",
     "output_type": "stream",
     "text": [
      "C:\\Users\\ssidh\\anaconda3\\lib\\site-packages\\scipy\\__init__.py:146: UserWarning: A NumPy version >=1.16.5 and <1.23.0 is required for this version of SciPy (detected version 1.26.4\n",
      "  warnings.warn(f\"A NumPy version >={np_minversion} and <{np_maxversion}\"\n"
     ]
    },
    {
     "data": {
      "text/html": [
       "<div>\n",
       "<style scoped>\n",
       "    .dataframe tbody tr th:only-of-type {\n",
       "        vertical-align: middle;\n",
       "    }\n",
       "\n",
       "    .dataframe tbody tr th {\n",
       "        vertical-align: top;\n",
       "    }\n",
       "\n",
       "    .dataframe thead th {\n",
       "        text-align: right;\n",
       "    }\n",
       "</style>\n",
       "<table border=\"1\" class=\"dataframe\">\n",
       "  <thead>\n",
       "    <tr style=\"text-align: right;\">\n",
       "      <th></th>\n",
       "      <th>Date</th>\n",
       "      <th>Temp</th>\n",
       "      <th>Year</th>\n",
       "      <th>Month</th>\n",
       "      <th>Day</th>\n",
       "      <th>Heatwave</th>\n",
       "    </tr>\n",
       "  </thead>\n",
       "  <tbody>\n",
       "    <tr>\n",
       "      <th>0</th>\n",
       "      <td>1981-01-01</td>\n",
       "      <td>20.7</td>\n",
       "      <td>1981</td>\n",
       "      <td>1</td>\n",
       "      <td>1</td>\n",
       "      <td>False</td>\n",
       "    </tr>\n",
       "    <tr>\n",
       "      <th>1</th>\n",
       "      <td>1981-01-02</td>\n",
       "      <td>17.9</td>\n",
       "      <td>1981</td>\n",
       "      <td>1</td>\n",
       "      <td>2</td>\n",
       "      <td>False</td>\n",
       "    </tr>\n",
       "    <tr>\n",
       "      <th>2</th>\n",
       "      <td>1981-01-03</td>\n",
       "      <td>18.8</td>\n",
       "      <td>1981</td>\n",
       "      <td>1</td>\n",
       "      <td>3</td>\n",
       "      <td>False</td>\n",
       "    </tr>\n",
       "    <tr>\n",
       "      <th>3</th>\n",
       "      <td>1981-01-04</td>\n",
       "      <td>14.6</td>\n",
       "      <td>1981</td>\n",
       "      <td>1</td>\n",
       "      <td>4</td>\n",
       "      <td>False</td>\n",
       "    </tr>\n",
       "    <tr>\n",
       "      <th>4</th>\n",
       "      <td>1981-01-05</td>\n",
       "      <td>15.8</td>\n",
       "      <td>1981</td>\n",
       "      <td>1</td>\n",
       "      <td>5</td>\n",
       "      <td>False</td>\n",
       "    </tr>\n",
       "  </tbody>\n",
       "</table>\n",
       "</div>"
      ],
      "text/plain": [
       "        Date  Temp  Year  Month  Day  Heatwave\n",
       "0 1981-01-01  20.7  1981      1    1     False\n",
       "1 1981-01-02  17.9  1981      1    2     False\n",
       "2 1981-01-03  18.8  1981      1    3     False\n",
       "3 1981-01-04  14.6  1981      1    4     False\n",
       "4 1981-01-05  15.8  1981      1    5     False"
      ]
     },
     "execution_count": 3,
     "metadata": {},
     "output_type": "execute_result"
    }
   ],
   "source": [
    "import pandas as pd\n",
    "import numpy as np\n",
    "import matplotlib.pyplot as plt\n",
    "from sklearn.model_selection import train_test_split\n",
    "from sklearn.ensemble import RandomForestClassifier\n",
    "from sklearn.metrics import classification_report\n",
    "\n",
    "# Sample data: Load your weather data here\n",
    "data_url = 'https://raw.githubusercontent.com/jbrownlee/Datasets/master/daily-min-temperatures.csv'\n",
    "weather_data = pd.read_csv(data_url, parse_dates=['Date'])\n",
    "\n",
    "# Preprocessing: Add a 'Heatwave' column based on a temperature threshold\n",
    "weather_data['Year'] = weather_data['Date'].dt.year\n",
    "weather_data['Month'] = weather_data['Date'].dt.month\n",
    "weather_data['Day'] = weather_data['Date'].dt.day\n",
    "\n",
    "# Define a heatwave as a day with a temperature above 30 degrees Celsius (example threshold)\n",
    "weather_data['Heatwave'] = weather_data['Temp'] > 30\n",
    "\n",
    "# Display the first few rows of the dataframe\n",
    "weather_data.head()"
   ]
  },
  {
   "cell_type": "code",
   "execution_count": 4,
   "id": "450a32fd",
   "metadata": {},
   "outputs": [
    {
     "data": {
      "image/png": "[encoded data removed]",
      "text/plain": [
       "<Figure size 720x360 with 1 Axes>"
      ]
     },
     "metadata": {
      "needs_background": "light"
     },
     "output_type": "display_data"
    }
   ],
   "source": [
    "# Plot the temperature data\n",
    "plt.figure(figsize=(10, 5))\n",
    "plt.plot(weather_data['Date'], weather_data['Temp'], label='Daily Temperature')\n",
    "plt.axhline(y=30, color='r', linestyle='--', label='Heatwave Threshold')\n",
    "plt.xlabel('Date')\n",
    "plt.ylabel('Temperature (C)')\n",
    "plt.title('Daily Temperatures')\n",
    "plt.legend()\n",
    "plt.show()\n",
    "\n"
   ]
  },
  {
   "cell_type": "code",
   "execution_count": 8,
   "id": "e79b5525",
   "metadata": {},
   "outputs": [
    {
     "data": {
      "image/png": "[encoded data removed]",
      "text/plain": [
       "<Figure size 720x360 with 1 Axes>"
      ]
     },
     "metadata": {
      "needs_background": "light"
     },
     "output_type": "display_data"
    }
   ],
   "source": [
    "import pandas as pd\n",
    "import matplotlib.pyplot as plt\n",
    "\n",
    "# Assuming weather_data is a DataFrame with 'Year' and 'Heatwave' columns\n",
    "#weather_data = pd.read_csv('your_weather_data.csv')\n",
    "\n",
    "# Group by 'Year' and sum up the 'Heatwave' days\n",
    "heatwave_days_per_year = weather_data.groupby('Year')['Heatwave'].sum()\n",
    "\n",
    "# Plotting the data\n",
    "heatwave_days_per_year.plot(kind='bar', figsize=(10, 5), title='Heatwave Days per Year')\n",
    "plt.xlabel('Year')\n",
    "plt.ylabel('Number of Heatwave Days')\n",
    "plt.title('Heatwave Days per Year')\n",
    "plt.show()\n"
   ]
  },
  {
   "cell_type": "code",
   "execution_count": 9,
   "id": "d8d846b5",
   "metadata": {},
   "outputs": [
    {
     "name": "stdout",
     "output_type": "stream",
     "text": [
      "              precision    recall  f1-score   support\n",
      "\n",
      "       False       1.00      1.00      1.00       730\n",
      "\n",
      "    accuracy                           1.00       730\n",
      "   macro avg       1.00      1.00      1.00       730\n",
      "weighted avg       1.00      1.00      1.00       730\n",
      "\n"
     ]
    }
   ],
   "source": [
    "# Prepare the dataset for modeling\n",
    "features = weather_data[['Year', 'Month', 'Day', 'Temp']]\n",
    "target = weather_data['Heatwave']\n",
    "\n",
    "# Split the data into training and testing sets\n",
    "X_train, X_test, y_train, y_test = train_test_split(features, target, test_size=0.2, random_state=42)\n",
    "\n",
    "# Train a Random Forest Classifier\n",
    "model = RandomForestClassifier(n_estimators=100, random_state=42)\n",
    "model.fit(X_train, y_train)\n",
    "\n",
    "# Make predictions\n",
    "y_pred = model.predict(X_test)\n",
    "\n",
    "# Evaluate the model\n",
    "print(classification_report(y_test, y_pred))"
   ]
  },
  {
   "cell_type": "code",
   "execution_count": 10,
   "id": "02795b80",
   "metadata": {
    "scrolled": true
   },
   "outputs": [
    {
     "name": "stdout",
     "output_type": "stream",
     "text": [
      "        Date  Temp  Humidity  WindSpeed  Pressure  Heatwave\n",
      "0 2020-01-01    36        64         19      1013         1\n",
      "1 2020-01-02    39        44          6      1018         1\n",
      "2 2020-01-03    36        49         17      1006         1\n",
      "3 2020-01-04    23        66          5      1014         0\n",
      "4 2020-01-05    33        67         13      1004         1\n"
     ]
    }
   ],
   "source": [
    "import pandas as pd\n",
    "import numpy as np\n",
    "import random\n",
    "from datetime import datetime, timedelta\n",
    "\n",
    "# Generate dates\n",
    "start_date = datetime(2020, 1, 1)\n",
    "end_date = datetime(2022, 12, 31)\n",
    "date_range = pd.date_range(start=start_date, end=end_date)\n",
    "\n",
    "# Generate random temperature, humidity, wind speed, and pressure data\n",
    "data = {\n",
    "    'Date': date_range,\n",
    "    'Temp': np.random.randint(20, 40, size=len(date_range)),\n",
    "    'Humidity': np.random.randint(40, 80, size=len(date_range)),\n",
    "    'WindSpeed': np.random.randint(0, 20, size=len(date_range)),\n",
    "    'Pressure': np.random.randint(1000, 1020, size=len(date_range))\n",
    "}\n",
    "\n",
    "# Create DataFrame\n",
    "weather_data = pd.DataFrame(data)\n",
    "\n",
    "# Simulate heatwave days (assuming temperature threshold of 30°C)\n",
    "weather_data['Heatwave'] = (weather_data['Temp'] > 30).astype(int)\n",
    "\n",
    "# Save DataFrame to CSV\n",
    "weather_data.to_csv('weather_data.csv', index=False)\n",
    "\n",
    "# Display sample of generated data\n",
    "print(weather_data.head())\n"
   ]
  },
  {
   "cell_type": "code",
   "execution_count": 12,
   "id": "71de62da",
   "metadata": {},
   "outputs": [],
   "source": [
    "import pandas as pd\n",
    "\n",
    "# Load weather data\n",
    "weather_data = pd.read_csv('weather_data.csv')\n",
    "\n",
    "# Convert 'Date' column to datetime format\n",
    "weather_data['Date'] = pd.to_datetime(weather_data['Date'])\n",
    "\n",
    "# Extract year, month, day from 'Date'\n",
    "weather_data['Year'] = weather_data['Date'].dt.year\n",
    "weather_data['Month'] = weather_data['Date'].dt.month\n",
    "weather_data['Day'] = weather_data['Date'].dt.day\n",
    "\n",
    "# Define heatwave threshold (e.g., 30°C)\n",
    "heatwave_threshold = 30\n",
    "weather_data['Heatwave'] = weather_data['Temp'] > heatwave_threshold\n"
   ]
  },
  {
   "cell_type": "code",
   "execution_count": 36,
   "id": "b05b3e8e",
   "metadata": {},
   "outputs": [
    {
     "name": "stdout",
     "output_type": "stream",
     "text": [
      "              precision    recall  f1-score   support\n",
      "\n",
      "           0       1.00      1.00      1.00       128\n",
      "           1       1.00      1.00      1.00        92\n",
      "\n",
      "    accuracy                           1.00       220\n",
      "   macro avg       1.00      1.00      1.00       220\n",
      "weighted avg       1.00      1.00      1.00       220\n",
      "\n"
     ]
    }
   ],
   "source": [
    "from sklearn.model_selection import train_test_split\n",
    "from sklearn.ensemble import RandomForestClassifier\n",
    "from sklearn.metrics import classification_report\n",
    "\n",
    "# Prepare features and labels\n",
    "features = weather_data[['Temp', 'Humidity', 'WindSpeed', 'Pressure']]  # Example features\n",
    "labels = weather_data['Heatwave']\n",
    "\n",
    "# Split data into training and testing sets\n",
    "X_train, X_test, y_train, y_test = train_test_split(features, labels, test_size=0.2, random_state=42)\n",
    "\n",
    "# Train a Random Forest Classifier\n",
    "model = RandomForestClassifier(n_estimators=100, random_state=42)\n",
    "model.fit(X_train, y_train)\n",
    "\n",
    "# Predict and evaluate the model\n",
    "y_pred = model.predict(X_test)\n",
    "print(classification_report(y_test, y_pred))\n"
   ]
  },
  {
   "cell_type": "code",
   "execution_count": null,
   "id": "f4d490dd",
   "metadata": {},
   "outputs": [],
   "source": []
  }
 ],
 "metadata": {
  "kernelspec": {
   "display_name": "Python 3 (ipykernel)",
   "language": "python",
   "name": "python3"
  },
  "language_info": {
   "codemirror_mode": {
    "name": "ipython",
    "version": 3
   },
   "file_extension": ".py",
   "mimetype": "text/x-python",
   "name": "python",
   "nbconvert_exporter": "python",
   "pygments_lexer": "ipython3",
   "version": "3.9.12"
  }
 },
 "nbformat": 4,
 "nbformat_minor": 5
}
